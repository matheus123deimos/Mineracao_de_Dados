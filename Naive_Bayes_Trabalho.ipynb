{
 "cells": [
  {
   "cell_type": "markdown",
   "metadata": {},
   "source": [
    "# Naive Bayes - Trabalho\n",
    "\n",
    "## Questão 1\n",
    "\n",
    "Implemente um classifacor Naive Bayes para o problema de predizer a qualidade de um carro. Para este fim, utilizaremos um conjunto de dados referente a qualidade de carros, disponível no [UCI](https://archive.ics.uci.edu/ml/datasets/car+evaluation). Este dataset de carros possui as seguintes features e classe:\n",
    "\n",
    "** Attributos **\n",
    "1. buying: vhigh, high, med, low\n",
    "2. maint: vhigh, high, med, low\n",
    "3. doors: 2, 3, 4, 5, more\n",
    "4. persons: 2, 4, more\n",
    "5. lug_boot: small, med, big\n",
    "6. safety: low, med, high\n",
    "\n",
    "** Classes **\n",
    "1. unacc, acc, good, vgood\n",
    "\n",
    "## Questão 2\n",
    "Crie uma versão de sua implementação usando as funções disponíveis na biblioteca SciKitLearn para o Naive Bayes ([veja aqui](http://scikit-learn.org/stable/modules/naive_bayes.html)) \n",
    "\n",
    "## Questão 3\n",
    "\n",
    "Analise a acurácia dos dois algoritmos e discuta a sua solução."
   ]
  },
  {
   "cell_type": "markdown",
   "metadata": {
    "collapsed": true
   },
   "source": [
    "# Questão 1"
   ]
  },
  {
   "cell_type": "code",
   "execution_count": 281,
   "metadata": {},
   "outputs": [
    {
     "data": {
      "text/html": [
       "<div>\n",
       "<style scoped>\n",
       "    .dataframe tbody tr th:only-of-type {\n",
       "        vertical-align: middle;\n",
       "    }\n",
       "\n",
       "    .dataframe tbody tr th {\n",
       "        vertical-align: top;\n",
       "    }\n",
       "\n",
       "    .dataframe thead th {\n",
       "        text-align: right;\n",
       "    }\n",
       "</style>\n",
       "<table border=\"1\" class=\"dataframe\">\n",
       "  <thead>\n",
       "    <tr style=\"text-align: right;\">\n",
       "      <th></th>\n",
       "      <th>buying</th>\n",
       "      <th>maint</th>\n",
       "      <th>doors</th>\n",
       "      <th>persons</th>\n",
       "      <th>lug_boot</th>\n",
       "      <th>safety</th>\n",
       "      <th>Class</th>\n",
       "    </tr>\n",
       "  </thead>\n",
       "  <tbody>\n",
       "    <tr>\n",
       "      <th>0</th>\n",
       "      <td>vhigh</td>\n",
       "      <td>vhigh</td>\n",
       "      <td>2</td>\n",
       "      <td>2</td>\n",
       "      <td>small</td>\n",
       "      <td>low</td>\n",
       "      <td>unacc</td>\n",
       "    </tr>\n",
       "    <tr>\n",
       "      <th>1</th>\n",
       "      <td>vhigh</td>\n",
       "      <td>vhigh</td>\n",
       "      <td>2</td>\n",
       "      <td>2</td>\n",
       "      <td>small</td>\n",
       "      <td>med</td>\n",
       "      <td>unacc</td>\n",
       "    </tr>\n",
       "    <tr>\n",
       "      <th>2</th>\n",
       "      <td>vhigh</td>\n",
       "      <td>vhigh</td>\n",
       "      <td>2</td>\n",
       "      <td>2</td>\n",
       "      <td>small</td>\n",
       "      <td>high</td>\n",
       "      <td>unacc</td>\n",
       "    </tr>\n",
       "    <tr>\n",
       "      <th>3</th>\n",
       "      <td>vhigh</td>\n",
       "      <td>vhigh</td>\n",
       "      <td>2</td>\n",
       "      <td>2</td>\n",
       "      <td>med</td>\n",
       "      <td>low</td>\n",
       "      <td>unacc</td>\n",
       "    </tr>\n",
       "    <tr>\n",
       "      <th>4</th>\n",
       "      <td>vhigh</td>\n",
       "      <td>vhigh</td>\n",
       "      <td>2</td>\n",
       "      <td>2</td>\n",
       "      <td>med</td>\n",
       "      <td>med</td>\n",
       "      <td>unacc</td>\n",
       "    </tr>\n",
       "  </tbody>\n",
       "</table>\n",
       "</div>"
      ],
      "text/plain": [
       "  buying  maint doors persons lug_boot safety  Class\n",
       "0  vhigh  vhigh     2       2    small    low  unacc\n",
       "1  vhigh  vhigh     2       2    small    med  unacc\n",
       "2  vhigh  vhigh     2       2    small   high  unacc\n",
       "3  vhigh  vhigh     2       2      med    low  unacc\n",
       "4  vhigh  vhigh     2       2      med    med  unacc"
      ]
     },
     "execution_count": 281,
     "metadata": {},
     "output_type": "execute_result"
    }
   ],
   "source": [
    "#Carregando o dataset e transformando em um dataframe\n",
    "\n",
    "import csv\n",
    "import pandas as pd\n",
    "import random\n",
    "from sklearn.model_selection import train_test_split\n",
    "from sklearn.naive_bayes import MultinomialNB\n",
    "from sklearn.naive_bayes import GaussianNB\n",
    "from sklearn.naive_bayes import ComplementNB\n",
    "\n",
    "def loadCsv(filename):\n",
    "    lines = csv.reader(open(filename, \"r\"))\n",
    "    dataset = list(lines)\n",
    "    return dataset\n",
    "\n",
    "data = loadCsv('carData.csv')\n",
    "Colunas = ['buying','maint','doors','persons','lug_boot','safety','Class']\n",
    "data= pd.DataFrame(data,columns=Colunas)\n",
    "data.head()"
   ]
  },
  {
   "cell_type": "code",
   "execution_count": 282,
   "metadata": {},
   "outputs": [],
   "source": [
    "#Transformando dados categoricos em binários\n",
    "Cat1 = pd.get_dummies(data[\"buying\"])\n",
    "Cat2 = pd.get_dummies(data[\"maint\"])\n",
    "Cat3 = pd.get_dummies(data[\"doors\"])\n",
    "Cat4 = pd.get_dummies(data[\"persons\"])\n",
    "Cat5 = pd.get_dummies(data[\"lug_boot\"])\n",
    "Cat6 = pd.get_dummies(data[\"safety\"])\n",
    "\n",
    "data.drop('buying',axis=1,inplace=True)\n",
    "data['B_high']=Cat1[\"high\"]\n",
    "data['B_low']=Cat1[\"low\"]\n",
    "data['B_med']=Cat1[\"med\"]\n",
    "data['B_vhigh']=Cat1[\"vhigh\"]\n",
    "\n",
    "data.drop('maint',axis=1,inplace=True)\n",
    "data['M_high']=Cat2[\"high\"]\n",
    "data['M_low']=Cat2[\"low\"]\n",
    "data['M_med']=Cat2[\"med\"]\n",
    "data['M_vhigh']=Cat2[\"vhigh\"]\n",
    "\n",
    "data.drop('doors',axis=1,inplace=True)\n",
    "data['D_2']=Cat3[\"2\"]\n",
    "data['D_3']=Cat3[\"3\"]\n",
    "data['D_4']=Cat3[\"4\"]\n",
    "data['D_5more']=Cat3[\"5more\"]\n",
    "\n",
    "data.drop('persons',axis=1,inplace=True)\n",
    "data['P_2']=Cat4[\"2\"]\n",
    "data['P_4']=Cat4[\"4\"]\n",
    "data['P_more']=Cat4[\"more\"]\n",
    "\n",
    "data.drop('lug_boot',axis=1,inplace=True)\n",
    "data['LB_big']=Cat5[\"big\"]\n",
    "data['LB_med']=Cat5[\"med\"]\n",
    "data['LB_small']=Cat5[\"small\"]\n",
    "\n",
    "data.drop('safety',axis=1,inplace=True)\n",
    "data['S_high']=Cat6[\"high\"]\n",
    "data['S_low']=Cat6[\"low\"]\n",
    "data['S_med']=Cat6[\"med\"]\n"
   ]
  },
  {
   "cell_type": "code",
   "execution_count": 283,
   "metadata": {},
   "outputs": [],
   "source": [
    "#Distribuição Normal"
   ]
  },
  {
   "cell_type": "markdown",
   "metadata": {},
   "source": [
    "# Questão 2"
   ]
  },
  {
   "cell_type": "code",
   "execution_count": null,
   "metadata": {},
   "outputs": [],
   "source": [
    "\n",
    "def splitDataset(dataset, splitRatio):\n",
    "    trainSize = int(dataset.shape[0] * splitRatio)\n",
    "    trainSet = []\n",
    "    copy = dataset.copy()\n",
    "    while len(trainSet) < trainSize:\n",
    "        index = random.randrange(len(copy))\n",
    "        trainSet.append(copy.pop(index))\n",
    "    return [trainSet, copy]"
   ]
  },
  {
   "cell_type": "code",
   "execution_count": 17,
   "metadata": {},
   "outputs": [],
   "source": [
    "# Separar as Classes\n",
    "\n",
    "def SeparatedbyClass(data):\n",
    "    \n",
    "    #Seria melhor implementada com conjuntos(set) e loopings\n",
    "    \n",
    "    c1 = data[data[\"Class\"]==\"unacc\"].copy()\n",
    "    c1.drop(\"Class\",axis=1,inplace=True)\n",
    "    c2 = data[data[\"Class\"]==\"acc\"].copy()\n",
    "    c2.drop(\"Class\",axis=1,inplace=True)\n",
    "    c3 = data[data[\"Class\"]==\"good\"].copy()\n",
    "    c3.drop(\"Class\",axis=1,inplace=True)\n",
    "    c4 = data[data[\"Class\"]==\"vgood\"].copy()\n",
    "    c4.drop(\"Class\",axis=1,inplace=True)\n",
    "    \n",
    "    separated = {\"unacc\":c1, \"acc\":c2, \"good\":c3, \"vgood\":c4}\n",
    "    \n",
    "    return separated"
   ]
  },
  {
   "cell_type": "code",
   "execution_count": 38,
   "metadata": {},
   "outputs": [],
   "source": [
    "#Probabilidade de Atributo da Classe\n",
    "def Prob_Atr_Classe(sep,classe,atr):\n",
    "    return sep[classe][atr][sep[classe][atr]==1].shape[0]/(sep[classe].shape[0])\n",
    "\n",
    "#Probabilidade de Atributo\n",
    "def Prob_Atr(data,atr):\n",
    "    return data[atr][data[atr]==1].shape[0]/(data.shape[0])\n",
    "\n",
    "#Probabilidade da Classe\n",
    "def Prob_Classe(data,classe):\n",
    "    return data['Class'][data['Class']==classe].shape[0]/(data.shape[0])"
   ]
  },
  {
   "cell_type": "code",
   "execution_count": 36,
   "metadata": {},
   "outputs": [],
   "source": [
    "#Tabela de Probabilidades de cada Atributo para cada Classe\n",
    "\n",
    "def Tab_Prob(data):\n",
    "    \n",
    "    Tab = {}\n",
    "    Sep = SeparatedbyClass(data)\n",
    "    colunas = list(data.columns)\n",
    "    colunas.remove('Class')\n",
    "    \n",
    "    for classe in list(Sep):\n",
    "        Tab[classe] = {}\n",
    "        for coluna in colunas:\n",
    "            Tab[classe][coluna] = Prob_Atr_Classe(Sep,classe,coluna)\n",
    "            \n",
    "    return Tab\n",
    "            "
   ]
  },
  {
   "cell_type": "code",
   "execution_count": 146,
   "metadata": {},
   "outputs": [],
   "source": [
    "#As Probabilidades das Classes dada uma entrada\n",
    "\n",
    "def Prob_Todas_Classes(Tab_Prob,InputVector):\n",
    "    \n",
    "    Prob_Classe = {}\n",
    "    \n",
    "    for classe in list(Tab_Prob):\n",
    "        prob_classe = 1\n",
    "        Input = InputVector.copy()\n",
    "        Input.drop(labels=\"Class\",inplace=True)\n",
    "        for i,x in enumerate(Input):\n",
    "            if(x==1):\n",
    "                atr = Input.index[i]\n",
    "                prob_classe *= Tab_Prob[classe][atr]\n",
    "                \n",
    "        Prob_Classe[classe] = prob_classe\n",
    "    \n",
    "    return Prob_Classe\n",
    "                \n",
    "            "
   ]
  },
  {
   "cell_type": "code",
   "execution_count": 180,
   "metadata": {},
   "outputs": [],
   "source": [
    "#Função Para Predizer 1 Classe\n",
    "\n",
    "def Predict(Tab_Prob,InputVector):\n",
    "    Probs_Classes = Prob_Todas_Classes(Tab_Prob,InputVector)\n",
    "    Prob_Max = max(list(Probs_Classes.values()))\n",
    "    Indice_Classe = list(Probs_Classes.values()).index(Prob_Max)\n",
    "    return list(Probs_Classes.keys())[Indice_Classe]\n",
    "    "
   ]
  },
  {
   "cell_type": "code",
   "execution_count": 181,
   "metadata": {},
   "outputs": [],
   "source": [
    "#Obter Predições para varias Instâncias\n",
    "def getPredictions(Tab_Prob,testSet):\n",
    "    prediction = []\n",
    "    \n",
    "    for i in testSet.index:\n",
    "        prediction.append(Predict(Tab_Prob,testSet.loc[i,:]))\n",
    "        \n",
    "    return prediction"
   ]
  },
  {
   "cell_type": "code",
   "execution_count": 213,
   "metadata": {},
   "outputs": [],
   "source": [
    "#Obter Acurácia\n",
    "def getAccuracy(testSet, predictions):\n",
    "    correct = 0\n",
    "    indices = testSet.index\n",
    "    cont = 0\n",
    "    \n",
    "    for i in indices:\n",
    "        if(testSet.loc[i,\"Class\"]==predictions[cont]):\n",
    "            correct+=1\n",
    "        cont+=1\n",
    "        \n",
    "    return round(((correct/testSet.shape[0]) * 100.0),3)"
   ]
  },
  {
   "cell_type": "markdown",
   "metadata": {},
   "source": [
    "# Questão 3"
   ]
  },
  {
   "cell_type": "markdown",
   "metadata": {},
   "source": [
    "## 1) Separando Dados"
   ]
  },
  {
   "cell_type": "code",
   "execution_count": 301,
   "metadata": {},
   "outputs": [],
   "source": [
    "#Separando entre dados de Teste e de Treino\n",
    "X_treino , X_teste = train_test_split(data,test_size=0.33,random_state=4)"
   ]
  },
  {
   "cell_type": "markdown",
   "metadata": {},
   "source": [
    "## 2) Meu Modelo"
   ]
  },
  {
   "cell_type": "code",
   "execution_count": 302,
   "metadata": {},
   "outputs": [],
   "source": [
    "#Treinando o Modelo\n",
    "treino = Tab_Prob(X_treino)"
   ]
  },
  {
   "cell_type": "code",
   "execution_count": 303,
   "metadata": {},
   "outputs": [],
   "source": [
    "#Testando o Modelo\n",
    "teste = getPredictions(treino,X_teste)"
   ]
  },
  {
   "cell_type": "code",
   "execution_count": 304,
   "metadata": {},
   "outputs": [
    {
     "name": "stdout",
     "output_type": "stream",
     "text": [
      "Acuracia: 82.312 %\n"
     ]
    }
   ],
   "source": [
    "#Obtendo Acurácia\n",
    "print(\"Acuracia: {} %\".format(getAccuracy(X_teste,teste)))"
   ]
  },
  {
   "cell_type": "markdown",
   "metadata": {},
   "source": [
    "## 3) Modelo do Scikit Learn"
   ]
  },
  {
   "cell_type": "code",
   "execution_count": 305,
   "metadata": {},
   "outputs": [],
   "source": [
    "#Split de Dados de Treino\n",
    "treino = X_treino.copy()\n",
    "target_treino = treino[\"Class\"]\n",
    "treino.drop(\"Class\",axis=1,inplace=True)\n",
    "\n",
    "#Split de Dados de Teste\n",
    "teste = X_teste.copy()\n",
    "target_teste = teste[\"Class\"]\n",
    "teste.drop(\"Class\",axis=1,inplace=True)"
   ]
  },
  {
   "cell_type": "code",
   "execution_count": 306,
   "metadata": {},
   "outputs": [
    {
     "data": {
      "text/plain": [
       "GaussianNB(priors=None, var_smoothing=1e-09)"
      ]
     },
     "execution_count": 306,
     "metadata": {},
     "output_type": "execute_result"
    }
   ],
   "source": [
    "#Treinando os Modelos\n",
    "modelo1 = ComplementNB()\n",
    "modelo2 = MultinomialNB()\n",
    "modelo3 = GaussianNB()\n",
    "\n",
    "modelo1.fit(treino,target_treino)\n",
    "modelo2.fit(treino,target_treino)\n",
    "modelo3.fit(treino,target_treino)"
   ]
  },
  {
   "cell_type": "code",
   "execution_count": 307,
   "metadata": {},
   "outputs": [
    {
     "name": "stdout",
     "output_type": "stream",
     "text": [
      "ComplementNB: 82.837 %; MultinomialNB: 86.69 %; GaussianNB: 80.736 %\n"
     ]
    }
   ],
   "source": [
    "#Testando o Modelo\n",
    "print(\"ComplementNB: {} %; MultinomialNB: {} %; GaussianNB: {} %\".format(round(modelo1.score(teste,target_teste)*100,3),\n",
    "round(modelo2.score(teste,target_teste)*100,3),round(modelo3.score(teste,target_teste)*100,3)))\n"
   ]
  },
  {
   "cell_type": "markdown",
   "metadata": {},
   "source": [
    "## Conclusão"
   ]
  },
  {
   "cell_type": "markdown",
   "metadata": {},
   "source": [
    "##### Acurácia : GaussianNB (80.736%)  <  MatheusNB(82.312%)  <  ComplementNB(82.837%)  < MultinomialNB(86.690%)"
   ]
  }
 ],
 "metadata": {
  "kernelspec": {
   "display_name": "Python 3",
   "language": "python",
   "name": "python3"
  },
  "language_info": {
   "codemirror_mode": {
    "name": "ipython",
    "version": 3
   },
   "file_extension": ".py",
   "mimetype": "text/x-python",
   "name": "python",
   "nbconvert_exporter": "python",
   "pygments_lexer": "ipython3",
   "version": "3.7.1"
  }
 },
 "nbformat": 4,
 "nbformat_minor": 2
}
